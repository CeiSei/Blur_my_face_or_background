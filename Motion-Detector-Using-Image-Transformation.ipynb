{
 "cells": [
  {
   "cell_type": "code",
   "execution_count": 6,
   "id": "3b563ec2-d417-4e03-9a5f-a6aa10c1dca8",
   "metadata": {},
   "outputs": [],
   "source": [
    "import cv2 as cv\n",
    "import numpy as np"
   ]
  },
  {
   "cell_type": "code",
   "execution_count": 23,
   "id": "8ad98d0e-545e-431f-a42f-6d34cac1846d",
   "metadata": {},
   "outputs": [],
   "source": [
    "video = cv.VideoCapture(0)\n",
    "\n",
    "#카메라 실행\n",
    "if video.isOpened():\n",
    "    img_prev = None\n",
    "    \n",
    "    fps = video.get(cv.CAP_PROP_FPS)\n",
    "    wait_msec = int(1/fps*1000)\n",
    "    \n",
    "    contrast = 1.6\n",
    "    contrast_step = 0.1\n",
    "    brightness = -40\n",
    "    brightness_step = 1\n",
    "    \n",
    "    while True:\n",
    "        valid, img = video.read()\n",
    "        if not valid:\n",
    "            break\n",
    "        \n",
    "        #영상 변형\n",
    "        img_tran = contrast * img + brightness\n",
    "        img_tran[img_tran < 0] = 0\n",
    "        img_tran[img_tran > 255] = 255 \n",
    "        img_tran = img_tran.astype(np.uint8)\n",
    "\n",
    "        if img_prev is None:\n",
    "            img_prev = img_tran.copy()\n",
    "            continue\n",
    "        img_diff = np.abs(img_tran.astype(np.int32) - img_prev).astype(np.uint8) \n",
    "        img_prev = img_tran.copy()\n",
    "\n",
    "        merge = np.hstack((img, img_tran, img_diff))\n",
    "        #play videoes\n",
    "        cv.imshow('VP1', merge)\n",
    "\n",
    "        #영상 변형 단축키 설정\n",
    "        key = cv.waitKey(wait_msec)\n",
    "        if key == 27:\n",
    "            break\n",
    "        elif key == ord('+') or key == ord('='):\n",
    "            contrast += contrast_step    \n",
    "        elif key == ord('-') or key == ord('_'):\n",
    "            contrast -= contrast_step\n",
    "        elif key == ord(']') or key == ord('}'):\n",
    "            brightness += brightness_step\n",
    "        elif key == ord('[') or key==ord('{'):\n",
    "            brightness -= brightness_step\n",
    "        \n",
    "    cv.destroyAllWindows()"
   ]
  },
  {
   "cell_type": "code",
   "execution_count": null,
   "id": "8885b552-b63b-4fea-922f-6683bb633b32",
   "metadata": {},
   "outputs": [],
   "source": []
  },
  {
   "cell_type": "code",
   "execution_count": null,
   "id": "27830cc5-1c1c-447b-b421-88c451e8d4a9",
   "metadata": {},
   "outputs": [],
   "source": []
  }
 ],
 "metadata": {
  "kernelspec": {
   "display_name": "Python 3 (ipykernel)",
   "language": "python",
   "name": "python3"
  },
  "language_info": {
   "codemirror_mode": {
    "name": "ipython",
    "version": 3
   },
   "file_extension": ".py",
   "mimetype": "text/x-python",
   "name": "python",
   "nbconvert_exporter": "python",
   "pygments_lexer": "ipython3",
   "version": "3.12.1"
  }
 },
 "nbformat": 4,
 "nbformat_minor": 5
}
